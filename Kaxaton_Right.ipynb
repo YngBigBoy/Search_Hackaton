{
  "nbformat": 4,
  "nbformat_minor": 0,
  "metadata": {
    "colab": {
      "provenance": [],
      "include_colab_link": true
    },
    "kernelspec": {
      "name": "python3",
      "display_name": "Python 3"
    },
    "language_info": {
      "name": "python"
    },
    "accelerator": "GPU"
  },
  "cells": [
    {
      "cell_type": "markdown",
      "metadata": {
        "id": "view-in-github",
        "colab_type": "text"
      },
      "source": [
        "<a href=\"https://colab.research.google.com/github/YngBigBoy/Search_Hackaton/blob/main/Kaxaton_Right.ipynb\" target=\"_parent\"><img src=\"https://colab.research.google.com/assets/colab-badge.svg\" alt=\"Open In Colab\"/></a>"
      ]
    },
    {
      "cell_type": "code",
      "metadata": {
        "id": "Hyz06ipMIdw1"
      },
      "source": [
        "import json\n",
        "import numpy as np\n",
        "from PIL import Image\n",
        "from matplotlib import pyplot as plt"
      ],
      "execution_count": null,
      "outputs": []
    },
    {
      "cell_type": "code",
      "metadata": {
        "id": "esgLesKUIi77"
      },
      "source": [
        "from google.colab import drive"
      ],
      "execution_count": null,
      "outputs": []
    },
    {
      "cell_type": "code",
      "metadata": {
        "colab": {
          "base_uri": "https://localhost:8080/"
        },
        "id": "T2-4IwDMInLh",
        "outputId": "d8c8fb39-339d-4fdb-e0af-764681e4489b"
      },
      "source": [
        "drive.mount('/content/drive/')"
      ],
      "execution_count": null,
      "outputs": [
        {
          "output_type": "stream",
          "name": "stdout",
          "text": [
            "Mounted at /content/drive/\n"
          ]
        }
      ]
    },
    {
      "cell_type": "code",
      "metadata": {
        "id": "qQvshFIkJn3O"
      },
      "source": [
        "f = open('/content/drive/My Drive/Xakaton/planesnet.json')\n",
        "planesnet = json.load(f)"
      ],
      "execution_count": null,
      "outputs": []
    },
    {
      "cell_type": "code",
      "metadata": {
        "id": "35mu8hvOJ3Ub"
      },
      "source": [
        "from tensorflow.keras.utils import to_categorical\n",
        "X = np.array(planesnet['data']) / 255.\n",
        "X = X.reshape([-1,3,20,20]).transpose([0,2,3,1])\n",
        "Y = np.array(planesnet['labels'])\n",
        "Y = to_categorical(Y, 2)"
      ],
      "execution_count": null,
      "outputs": []
    },
    {
      "cell_type": "code",
      "metadata": {
        "id": "BGuoo8AUyu0w",
        "colab": {
          "base_uri": "https://localhost:8080/"
        },
        "outputId": "cd15f626-97e6-472e-856a-d9efa0950de2"
      },
      "source": [
        "X.shape"
      ],
      "execution_count": null,
      "outputs": [
        {
          "output_type": "execute_result",
          "data": {
            "text/plain": [
              "(32000, 20, 20, 3)"
            ]
          },
          "metadata": {},
          "execution_count": 6
        }
      ]
    },
    {
      "cell_type": "code",
      "metadata": {
        "colab": {
          "base_uri": "https://localhost:8080/"
        },
        "id": "mkBXFkNcPtSz",
        "outputId": "4d5c0829-8ddc-47a2-c1f0-3fa353528f50"
      },
      "source": [
        "Y"
      ],
      "execution_count": null,
      "outputs": [
        {
          "output_type": "execute_result",
          "data": {
            "text/plain": [
              "array([[0., 1.],\n",
              "       [0., 1.],\n",
              "       [0., 1.],\n",
              "       ...,\n",
              "       [1., 0.],\n",
              "       [1., 0.],\n",
              "       [1., 0.]], dtype=float32)"
            ]
          },
          "metadata": {},
          "execution_count": 7
        }
      ]
    },
    {
      "cell_type": "code",
      "metadata": {
        "id": "rPAE8T4hLLZ5"
      },
      "source": [
        "from tensorflow.keras.models import Sequential #Сеть прямого распространения\n",
        "#Базовые слои для свёрточных сетей\n",
        "from tensorflow.keras.layers import Dense, Conv2D, MaxPooling2D, Flatten, Dropout, BatchNormalization\n",
        "from tensorflow.keras.preprocessing.image import ImageDataGenerator # работа с изображениями\n",
        "from tensorflow.keras.optimizers import Adam, Adadelta # оптимизаторы\n",
        "from tensorflow.keras import utils #Используем дял to_categoricall\n",
        "from tensorflow.keras.preprocessing import image #Для отрисовки изображений\n",
        "from google.colab import files #Для загрузки своей картинки\n",
        "import numpy as np #Библиотека работы с массивами\n",
        "import matplotlib.pyplot as plt #Для отрисовки графиков\n",
        "from PIL import Image #Для отрисовки изображений\n",
        "import random #Для генерации случайных чисел\n",
        "import math # Для округления\n",
        "import os #Для работы с файлами\n",
        "from sklearn.model_selection import train_test_split"
      ],
      "execution_count": null,
      "outputs": []
    },
    {
      "cell_type": "code",
      "metadata": {
        "colab": {
          "base_uri": "https://localhost:8080/",
          "height": 447
        },
        "id": "Yrl0q-bzOKgY",
        "outputId": "921c7419-cbf9-486d-8d52-a24a47c9cd25"
      },
      "source": [
        "plt.imshow(X[10150])\n",
        "print(Y[10150])"
      ],
      "execution_count": null,
      "outputs": [
        {
          "output_type": "stream",
          "name": "stdout",
          "text": [
            "[1. 0.]\n"
          ]
        },
        {
          "output_type": "display_data",
          "data": {
            "text/plain": [
              "<Figure size 640x480 with 1 Axes>"
            ],
            "image/png": "[encoded data removed]"
          },
          "metadata": {}
        }
      ]
    },
    {
      "cell_type": "code",
      "source": [
        "plt.imshow(X[1011])\n",
        "print(Y[1011])"
      ],
      "metadata": {
        "colab": {
          "base_uri": "https://localhost:8080/",
          "height": 447
        },
        "id": "i1afUaOXV8SH",
        "outputId": "c949d15a-9f2a-44e1-db6b-336655b50c79"
      },
      "execution_count": null,
      "outputs": [
        {
          "output_type": "stream",
          "name": "stdout",
          "text": [
            "[0. 1.]\n"
          ]
        },
        {
          "output_type": "display_data",
          "data": {
            "text/plain": [
              "<Figure size 640x480 with 1 Axes>"
            ],
            "image/png": "[encoded data removed]"
          },
          "metadata": {}
        }
      ]
    },
    {
      "cell_type": "markdown",
      "metadata": {
        "id": "TzEpwTEdR6Qr"
      },
      "source": []
    },
    {
      "cell_type": "code",
      "metadata": {
        "id": "tico1OhEQAhf"
      },
      "source": [
        "x_train, x_test, y_train, y_test = train_test_split(X, Y, test_size = 0.2, shuffle=True, random_state=42)\n"
      ],
      "execution_count": null,
      "outputs": []
    },
    {
      "cell_type": "code",
      "metadata": {
        "colab": {
          "base_uri": "https://localhost:8080/"
        },
        "id": "S_K0D8HZSWm2",
        "outputId": "de8b434e-f7cb-47c1-e692-40d57d95efd2"
      },
      "source": [
        "print(x_train.shape)\n",
        "print(x_test.shape)\n",
        "print(y_train.shape)\n",
        "print(y_test.shape)"
      ],
      "execution_count": null,
      "outputs": [
        {
          "output_type": "stream",
          "name": "stdout",
          "text": [
            "(25600, 20, 20, 3)\n",
            "(6400, 20, 20, 3)\n",
            "(25600, 2)\n",
            "(6400, 2)\n"
          ]
        }
      ]
    },
    {
      "cell_type": "code",
      "metadata": {
        "colab": {
          "base_uri": "https://localhost:8080/",
          "height": 1000
        },
        "id": "kg8IWGo_SfZo",
        "outputId": "323bf61a-41ba-415a-d391-e69b6f59eb4f"
      },
      "source": [
        "batch_size = 128\n",
        "\n",
        "#Создаем последовательную модель\n",
        "model = Sequential()\n",
        "#Слой пакетной нормализации\n",
        "model.add(BatchNormalization(input_shape=(20, 20, 3)))\n",
        "#Первый сверточный слой\n",
        "model.add(Conv2D(20, (3, 3), padding='same', activation='relu'))\n",
        "#Второй сверточный слой\n",
        "model.add(Conv2D(20, (3, 3), padding='same', activation='relu'))\n",
        "#Первый слой подвыборки\n",
        "model.add(MaxPooling2D(pool_size=(2, 2)))\n",
        "#Слой регуляризации Dropout\n",
        "model.add(Dropout(0.12))\n",
        "\n",
        "#Слой пакетной нормализации\n",
        "model.add(BatchNormalization())\n",
        "#Третий сверточный слой\n",
        "model.add(Conv2D(40, (3, 3), padding='same', activation='relu'))\n",
        "#Четвертый сверточный слой\n",
        "model.add(Conv2D(40, (3, 3), padding='same', activation='relu'))\n",
        "#Второй слой подвыборки\n",
        "model.add(MaxPooling2D(pool_size=(2, 2)))\n",
        "#Слой регуляризации Dropout\n",
        "model.add(Dropout(0.12))\n",
        "\n",
        "\n",
        "\n",
        "#Слой преобразования данных из 2D представления в плоское\n",
        "model.add(Flatten())\n",
        "#Полносвязный слой для классификации\n",
        "model.add(Dense(512, activation='relu'))\n",
        "\n",
        "#Слой регуляризации Dropout\n",
        "model.add(Dropout(0.12))\n",
        "#Выходной полносвязный слой\n",
        "model.add(Dense(2, activation='softmax'))\n",
        "\n",
        "#Компилируем сеть\n",
        "model.compile(loss=\"categorical_crossentropy\", optimizer=\"adam\", metrics=[\"accuracy\"])\n",
        "\n",
        "\n",
        "history = model.fit(x_train,\n",
        "                    y_train,\n",
        "                    batch_size=batch_size,\n",
        "                    epochs=20,\n",
        "                    validation_data=(x_test, y_test),\n",
        "                    verbose=1)\n",
        "\n",
        "#Оображаем график точности обучения\n",
        "plt.plot(history.history['accuracy'],\n",
        "         label='Доля верных ответов на обучающем наборе')\n",
        "plt.plot(history.history['val_accuracy'],\n",
        "         label='Доля верных ответов на проверочном наборе')\n",
        "plt.xlabel('Эпоха обучения')\n",
        "plt.ylabel('Доля верных ответов')\n",
        "plt.legend()\n",
        "plt.show()"
      ],
      "execution_count": null,
      "outputs": [
        {
          "output_type": "stream",
          "name": "stdout",
          "text": [
            "Epoch 1/20\n",
            "200/200 [==============================] - 15s 9ms/step - loss: 0.2003 - accuracy: 0.9184 - val_loss: 0.3664 - val_accuracy: 0.8055\n",
            "Epoch 2/20\n",
            "200/200 [==============================] - 1s 7ms/step - loss: 0.0901 - accuracy: 0.9654 - val_loss: 0.1013 - val_accuracy: 0.9689\n",
            "Epoch 3/20\n",
            "200/200 [==============================] - 1s 7ms/step - loss: 0.0641 - accuracy: 0.9766 - val_loss: 0.0562 - val_accuracy: 0.9805\n",
            "Epoch 4/20\n",
            "200/200 [==============================] - 1s 7ms/step - loss: 0.0485 - accuracy: 0.9823 - val_loss: 0.0573 - val_accuracy: 0.9802\n",
            "Epoch 5/20\n",
            "200/200 [==============================] - 1s 7ms/step - loss: 0.0382 - accuracy: 0.9870 - val_loss: 0.0455 - val_accuracy: 0.9856\n",
            "Epoch 6/20\n",
            "200/200 [==============================] - 1s 7ms/step - loss: 0.0333 - accuracy: 0.9878 - val_loss: 0.0407 - val_accuracy: 0.9873\n",
            "Epoch 7/20\n",
            "200/200 [==============================] - 2s 8ms/step - loss: 0.0267 - accuracy: 0.9904 - val_loss: 0.0525 - val_accuracy: 0.9823\n",
            "Epoch 8/20\n",
            "200/200 [==============================] - 2s 10ms/step - loss: 0.0224 - accuracy: 0.9920 - val_loss: 0.0505 - val_accuracy: 0.9842\n",
            "Epoch 9/20\n",
            "200/200 [==============================] - 2s 9ms/step - loss: 0.0210 - accuracy: 0.9928 - val_loss: 0.0393 - val_accuracy: 0.9869\n",
            "Epoch 10/20\n",
            "200/200 [==============================] - 1s 7ms/step - loss: 0.0178 - accuracy: 0.9932 - val_loss: 0.0424 - val_accuracy: 0.9861\n",
            "Epoch 11/20\n",
            "200/200 [==============================] - 1s 7ms/step - loss: 0.0189 - accuracy: 0.9933 - val_loss: 0.0580 - val_accuracy: 0.9819\n",
            "Epoch 12/20\n",
            "200/200 [==============================] - 1s 7ms/step - loss: 0.0165 - accuracy: 0.9940 - val_loss: 0.0522 - val_accuracy: 0.9858\n",
            "Epoch 13/20\n",
            "200/200 [==============================] - 1s 7ms/step - loss: 0.0137 - accuracy: 0.9950 - val_loss: 0.0533 - val_accuracy: 0.9841\n",
            "Epoch 14/20\n",
            "200/200 [==============================] - 1s 7ms/step - loss: 0.0135 - accuracy: 0.9957 - val_loss: 0.0425 - val_accuracy: 0.9872\n",
            "Epoch 15/20\n",
            "200/200 [==============================] - 1s 7ms/step - loss: 0.0108 - accuracy: 0.9964 - val_loss: 0.0510 - val_accuracy: 0.9870\n",
            "Epoch 16/20\n",
            "200/200 [==============================] - 1s 7ms/step - loss: 0.0144 - accuracy: 0.9948 - val_loss: 0.0371 - val_accuracy: 0.9903\n",
            "Epoch 17/20\n",
            "200/200 [==============================] - 2s 9ms/step - loss: 0.0095 - accuracy: 0.9966 - val_loss: 0.0443 - val_accuracy: 0.9908\n",
            "Epoch 18/20\n",
            "200/200 [==============================] - 2s 9ms/step - loss: 0.0125 - accuracy: 0.9958 - val_loss: 0.0410 - val_accuracy: 0.9908\n",
            "Epoch 19/20\n",
            "200/200 [==============================] - 2s 8ms/step - loss: 0.0078 - accuracy: 0.9970 - val_loss: 0.0386 - val_accuracy: 0.9906\n",
            "Epoch 20/20\n",
            "200/200 [==============================] - 1s 7ms/step - loss: 0.0115 - accuracy: 0.9959 - val_loss: 0.0405 - val_accuracy: 0.9889\n"
          ]
        },
        {
          "output_type": "display_data",
          "data": {
            "text/plain": [
              "<Figure size 640x480 with 1 Axes>"
            ],
            "image/png": "[encoded data removed]"
          },
          "metadata": {}
        }
      ]
    },
    {
      "cell_type": "code",
      "metadata": {
        "colab": {
          "base_uri": "https://localhost:8080/"
        },
        "id": "aADPW6pWVA0A",
        "outputId": "81332b26-cee8-4b8c-aa42-05e63fd2593d"
      },
      "source": [
        "model.summary()"
      ],
      "execution_count": null,
      "outputs": [
        {
          "output_type": "stream",
          "name": "stdout",
          "text": [
            "Model: \"sequential\"\n",
            "_________________________________________________________________\n",
            " Layer (type)                Output Shape              Param #   \n",
            "=================================================================\n",
            " batch_normalization (Batch  (None, 20, 20, 3)         12        \n",
            " Normalization)                                                  \n",
            "                                                                 \n",
            " conv2d (Conv2D)             (None, 20, 20, 20)        560       \n",
            "                                                                 \n",
            " conv2d_1 (Conv2D)           (None, 20, 20, 20)        3620      \n",
            "                                                                 \n",
            " max_pooling2d (MaxPooling2  (None, 10, 10, 20)        0         \n",
            " D)                                                              \n",
            "                                                                 \n",
            " dropout (Dropout)           (None, 10, 10, 20)        0         \n",
            "                                                                 \n",
            " batch_normalization_1 (Bat  (None, 10, 10, 20)        80        \n",
            " chNormalization)                                                \n",
            "                                                                 \n",
            " conv2d_2 (Conv2D)           (None, 10, 10, 40)        7240      \n",
            "                                                                 \n",
            " conv2d_3 (Conv2D)           (None, 10, 10, 40)        14440     \n",
            "                                                                 \n",
            " max_pooling2d_1 (MaxPoolin  (None, 5, 5, 40)          0         \n",
            " g2D)                                                            \n",
            "                                                                 \n",
            " dropout_1 (Dropout)         (None, 5, 5, 40)          0         \n",
            "                                                                 \n",
            " flatten (Flatten)           (None, 1000)              0         \n",
            "                                                                 \n",
            " dense (Dense)               (None, 512)               512512    \n",
            "                                                                 \n",
            " dropout_2 (Dropout)         (None, 512)               0         \n",
            "                                                                 \n",
            " dense_1 (Dense)             (None, 2)                 1026      \n",
            "                                                                 \n",
            "=================================================================\n",
            "Total params: 539490 (2.06 MB)\n",
            "Trainable params: 539444 (2.06 MB)\n",
            "Non-trainable params: 46 (184.00 Byte)\n",
            "_________________________________________________________________\n"
          ]
        }
      ]
    },
    {
      "cell_type": "code",
      "metadata": {
        "id": "rCrJoInulTOn"
      },
      "source": [],
      "execution_count": null,
      "outputs": []
    },
    {
      "cell_type": "code",
      "metadata": {
        "id": "3KnjJgiQVMk9",
        "colab": {
          "base_uri": "https://localhost:8080/"
        },
        "outputId": "66c9889b-93ef-4c45-a28d-c052a8fac869"
      },
      "source": [
        "prediction = model.predict(x_test)"
      ],
      "execution_count": null,
      "outputs": [
        {
          "output_type": "stream",
          "name": "stdout",
          "text": [
            "200/200 [==============================] - 1s 3ms/step\n"
          ]
        }
      ]
    },
    {
      "cell_type": "code",
      "metadata": {
        "colab": {
          "base_uri": "https://localhost:8080/",
          "height": 482
        },
        "id": "9nk712iVVP4v",
        "outputId": "4a30a796-98ca-402d-9e50-3c31527e9569"
      },
      "source": [
        "n = 607\n",
        "\n",
        "#Выводим на экран картинку\n",
        "plt.imshow(x_test[n])\n",
        "plt.show()\n",
        "\n",
        "#Выводим на экран результаты\n",
        "print(\"Выход сети: \", prediction[n])\n",
        "print(\"Распознанный образ: \", np.argmax(prediction[n]))\n",
        "print(\"Верный ответ: \", y_test[n])"
      ],
      "execution_count": null,
      "outputs": [
        {
          "output_type": "display_data",
          "data": {
            "text/plain": [
              "<Figure size 640x480 with 1 Axes>"
            ],
            "image/png": "[encoded data removed]"
          },
          "metadata": {}
        },
        {
          "output_type": "stream",
          "name": "stdout",
          "text": [
            "Выход сети:  [1.0000000e+00 5.9093767e-27]\n",
            "Распознанный образ:  0\n",
            "Верный ответ:  [1. 0.]\n"
          ]
        }
      ]
    },
    {
      "cell_type": "code",
      "source": [
        "n = 444\n",
        "\n",
        "#Выводим на экран картинку\n",
        "plt.imshow(x_test[n])\n",
        "plt.show()\n",
        "\n",
        "#Выводим на экран результаты\n",
        "print(\"Выход сети: \", prediction[n])\n",
        "print(\"Распознанный образ: \", np.argmax(prediction[n]))\n",
        "print(\"Верный ответ: \", y_test[n])"
      ],
      "metadata": {
        "colab": {
          "base_uri": "https://localhost:8080/",
          "height": 482
        },
        "id": "iDVDjipTWacK",
        "outputId": "08b54b6a-9755-4bdc-e2c8-107973cfce8d"
      },
      "execution_count": null,
      "outputs": [
        {
          "output_type": "display_data",
          "data": {
            "text/plain": [
              "<Figure size 640x480 with 1 Axes>"
            ],
            "image/png": "[encoded data removed]"
          },
          "metadata": {}
        },
        {
          "output_type": "stream",
          "name": "stdout",
          "text": [
            "Выход сети:  [6.401934e-04 9.993598e-01]\n",
            "Распознанный образ:  1\n",
            "Верный ответ:  [0. 1.]\n"
          ]
        }
      ]
    },
    {
      "cell_type": "code",
      "metadata": {
        "id": "U5xGATD8WoE0",
        "colab": {
          "base_uri": "https://localhost:8080/"
        },
        "outputId": "40218316-72cd-4c8c-a2a3-b2ab239be2c6"
      },
      "source": [
        "#MAE метрика\n",
        "sum_of_predictions = 0\n",
        "for idx in range(1000):\n",
        "    is_exits = 1 if y_test[idx][0] == '0' else 0\n",
        "\n",
        "    sum_of_predictions += abs(is_exits - np.argmax(prediction[idx]))\n",
        "\n",
        "print(f'MAE = {sum_of_predictions / 1000}')\n"
      ],
      "execution_count": null,
      "outputs": [
        {
          "output_type": "stream",
          "name": "stdout",
          "text": [
            "MAE = 0.236\n"
          ]
        }
      ]
    },
    {
      "cell_type": "code",
      "metadata": {
        "id": "xk-fYihudxd9",
        "colab": {
          "base_uri": "https://localhost:8080/"
        },
        "outputId": "06971a76-f087-4ae6-e9e4-aab86b136b66"
      },
      "source": [
        "from keras.models import model_from_json\n",
        "\n",
        "model_json = model.to_json()\n",
        "with open(\"model.json\", \"w\") as json_file:\n",
        "    json_file.write(model_json)\n",
        "# serialize weights to HDF5\n",
        "model.save_weights(\"model.h5\")\n",
        "print(\"Saved model to disk\")\n",
        "\n"
      ],
      "execution_count": null,
      "outputs": [
        {
          "output_type": "stream",
          "name": "stdout",
          "text": [
            "Saved model to disk\n"
          ]
        }
      ]
    },
    {
      "cell_type": "code",
      "metadata": {
        "id": "27c6qS0aywIL"
      },
      "source": [
        "imgs = []\n",
        "bad = []\n",
        "dirname = '/content/drive/My Drive/Xakaton/avia-test'\n",
        "for imgname in os.listdir(dirname):\n",
        "\n",
        "        img = Image.open(os.path.join(dirname, imgname))\n",
        "        img = np.array(img)\n",
        "        if img.shape == (20, 20, 3):\n",
        "              imgs.append(img)\n",
        "        else:\n",
        "              bad.append(imgname)\n",
        "\n",
        "\n",
        "\n"
      ],
      "execution_count": null,
      "outputs": []
    },
    {
      "cell_type": "code",
      "metadata": {
        "colab": {
          "base_uri": "https://localhost:8080/"
        },
        "id": "bhX9VzTb7T4J",
        "outputId": "4d8fa70f-1f20-4dbe-fb6e-f027198f434e"
      },
      "source": [
        "bad\n"
      ],
      "execution_count": null,
      "outputs": [
        {
          "output_type": "execute_result",
          "data": {
            "text/plain": [
              "['71586e2b-f9c6-41c6-a26b-acb10eeaee32.png',\n",
              " 'de5f8bed-6a9b-4ece-9c57-345e923def22.png',\n",
              " 'd07b43d9-054a-4752-a3c8-ae8c780874a3.png',\n",
              " '73391958-6b88-40a5-9191-5386b7925b40.png',\n",
              " 'ebfaea85-562d-4b78-baa2-13f7622535f3.png',\n",
              " '43af096e-2776-43f4-bc44-457fc3e33bba.png',\n",
              " '0c2eb4b7-a85a-4807-a4e4-4491748a390d.png',\n",
              " 'c79a5362-30cc-49c2-9faa-dc4577df8825.png',\n",
              " 'f4c0f480-725d-4002-961c-703586636e55.png',\n",
              " '71da2b41-4bbf-420b-b5ad-8f5352af0c50.png',\n",
              " '92188a26-cfe7-41cc-b84a-729a89c3afc6.png',\n",
              " '176a953d-959f-416e-b6da-c47b3ff1e0f5.png',\n",
              " '93a5da1c-3aea-44aa-9240-96cb8ed18994.png',\n",
              " 'e6d95799-8c48-4a79-ba2a-09b985447158.png',\n",
              " 'dfd9000d-4100-448e-8c28-242d0ae24dcd.png',\n",
              " '52ee5526-930d-4efc-b7bc-afe56d970278.png',\n",
              " '8184f255-2bf3-4d16-9cf5-e5296df8db9f.png',\n",
              " '475adc32-815a-4f06-ae6a-61a992c42fbd.png',\n",
              " 'fd08f9af-0bc8-4462-b4e9-3e77a783b49c.png',\n",
              " '0664e6a4-610a-4c97-b5e2-b05177de7163.png',\n",
              " '90952d65-f789-4d4c-abf6-71789a080b1b.png',\n",
              " '964624c7-4e79-4c9e-a86b-bd99678618b9.png',\n",
              " 'e42c0702-e144-4ef9-af2b-0e0065f49378.png',\n",
              " '9674f377-915c-4059-8a89-2771a51b845d.png',\n",
              " '5e286847-3698-4048-b245-70aa4109afa6.png',\n",
              " '61d5b980-b2f1-4314-ac9f-3fc19bcc4924.png',\n",
              " '652419d4-fad5-47f0-bde8-66b376ed311b.png',\n",
              " 'b7cb6965-b63e-41e7-906f-2305176ab716.png',\n",
              " '3f895e00-8843-4eed-96ac-a22e8cad699e.png',\n",
              " '8d2f424c-d3ee-4641-a375-720694659f10.png',\n",
              " 'd70c0d57-6f62-41b1-9e1a-a6ac76118ea5.png',\n",
              " '863ef7b1-8282-48e6-b777-c4f3da15b403.png',\n",
              " '0c24093c-0d2c-4efd-9c29-c0a138946d70.png',\n",
              " '9e0a7a8e-5412-4792-aeb1-cea4e12ea666.png',\n",
              " '618bc079-3baf-4f21-b92e-756d4ab38b83.png',\n",
              " '073d35e0-f95e-491c-a190-7d5ab552c3ef.png',\n",
              " '773d6063-5dd0-44f6-b5c1-4409b1e4b6c8.png',\n",
              " 'b1bbcdda-b279-4758-b61e-ea037a938745.png',\n",
              " '103c3b34-63b6-4a2f-a2f8-a6eb85c5be11.png',\n",
              " 'e8764332-4d6e-4d7b-ab72-6c6b8c107bb1.png',\n",
              " 'fac2c36e-6395-44cc-ab73-d01f813eb605.png',\n",
              " '67d6890e-3de7-4366-b267-915f9b3ff02a.png',\n",
              " '1e3baecb-49ef-456c-9c4c-cdf164b1faca.png',\n",
              " '7ab51a9c-0fb9-40f5-bbe6-76370031faf4.png',\n",
              " '81d83894-0e6f-431a-9971-583f99d94ab9.png',\n",
              " '92c3951e-ab05-492f-90e8-ece27ffe3efa.png',\n",
              " 'cba2e377-1120-45b3-9f9e-1a26f12a7b0b.png',\n",
              " '2e82a554-98f6-456f-968a-706134810114.png',\n",
              " 'e33ca568-3517-4c8f-b96d-3eaaf025295d.png',\n",
              " 'b09197a8-64ad-436b-9dba-fe2d0d3c7077.png',\n",
              " '3d231bb9-23d8-48f0-8545-44526608cd04.png',\n",
              " '83f5c499-358b-4c88-8065-40409fc28281.png',\n",
              " 'b4f16723-149f-4179-a258-97b52442de74.png',\n",
              " '1958ee34-cccd-4fe4-8038-4402736ae7fe.png',\n",
              " '2f423502-eb92-4123-b4b9-cbaaa6c01261.png',\n",
              " '01cf8479-f165-497d-9669-e7ad9fad33d5.png',\n",
              " '397b4845-0de8-4a83-9074-a945b85e39b9.png',\n",
              " '40ef19b7-f908-4a73-a84b-a6a9e5417b30.png',\n",
              " '1bfd9c52-d8f9-496f-a0db-765eb8cd706e.png',\n",
              " '4477ec27-4808-4a77-991e-5048a124095b.png']"
            ]
          },
          "metadata": {},
          "execution_count": 144
        }
      ]
    },
    {
      "cell_type": "code",
      "metadata": {
        "colab": {
          "base_uri": "https://localhost:8080/"
        },
        "id": "D8bRK3Z8HXrK",
        "outputId": "3db9597d-6f67-424c-c8c9-330d6a4a1263"
      },
      "source": [
        "im3.shape\n"
      ],
      "execution_count": null,
      "outputs": [
        {
          "output_type": "execute_result",
          "data": {
            "text/plain": [
              "(941, 20, 20, 3)"
            ]
          },
          "metadata": {},
          "execution_count": 140
        }
      ]
    },
    {
      "cell_type": "code",
      "metadata": {
        "id": "C7xxkVe0Hvj_"
      },
      "source": [
        "X_val = im3 / 255.\n",
        "#X_val = X_val.reshape([-1,3,20,20]).transpose([0,2,3,1])"
      ],
      "execution_count": null,
      "outputs": []
    },
    {
      "cell_type": "code",
      "metadata": {
        "colab": {
          "base_uri": "https://localhost:8080/"
        },
        "id": "9p4u0TYDOwnL",
        "outputId": "8e7b08a4-368a-4c36-9e4e-5d5f4acc8740"
      },
      "source": [
        "X_val.shape"
      ],
      "execution_count": null,
      "outputs": [
        {
          "output_type": "execute_result",
          "data": {
            "text/plain": [
              "(941, 20, 20, 3)"
            ]
          },
          "metadata": {},
          "execution_count": 64
        }
      ]
    },
    {
      "cell_type": "code",
      "metadata": {
        "colab": {
          "base_uri": "https://localhost:8080/",
          "height": 265
        },
        "id": "WTaDhRmfO43p",
        "outputId": "42ee923b-037d-429c-c28d-58b16b069d75"
      },
      "source": [
        "plt.imshow(X_val[364])\n",
        "plt.show()"
      ],
      "execution_count": null,
      "outputs": [
        {
          "output_type": "display_data",
          "data": {
            "image/png": "[encoded data removed]",
            "text/plain": [
              "<Figure size 432x288 with 1 Axes>"
            ]
          },
          "metadata": {
            "needs_background": "light"
          }
        }
      ]
    },
    {
      "cell_type": "code",
      "metadata": {
        "id": "lUNxGz-8N1QI"
      },
      "source": [
        "prediction = model.predict(X_val)"
      ],
      "execution_count": null,
      "outputs": []
    },
    {
      "cell_type": "code",
      "metadata": {
        "colab": {
          "base_uri": "https://localhost:8080/",
          "height": 299
        },
        "id": "cL17YWlPOfaj",
        "outputId": "70f422ad-f675-4787-d864-dabcafd4c167"
      },
      "source": [
        "n = 88\n",
        "\n",
        "#Выводим на экран картинку\n",
        "plt.imshow(X_val[n])\n",
        "plt.show()\n",
        "pred_list = []\n",
        "\n",
        "\n",
        "print(\"Выход сети: \", prediction[n])\n",
        "print(\"Распознанный образ: \", np.argmax(prediction[n]))\n"
      ],
      "execution_count": null,
      "outputs": [
        {
          "output_type": "display_data",
          "data": {
            "image/png": "[encoded data removed]",
            "text/plain": [
              "<Figure size 432x288 with 1 Axes>"
            ]
          },
          "metadata": {
            "needs_background": "light"
          }
        },
        {
          "output_type": "stream",
          "name": "stdout",
          "text": [
            "Выход сети:  [9.999999e-01 6.386709e-08]\n",
            "Распознанный образ:  0\n"
          ]
        }
      ]
    }
  ]
}